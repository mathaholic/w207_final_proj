{
 "cells": [
  {
   "cell_type": "markdown",
   "metadata": {},
   "source": [
    "# Project : Random Acts of Pizza"
   ]
  },
  {
   "cell_type": "markdown",
   "metadata": {},
   "source": [
    "Overview:\n"
   ]
  },
  {
   "cell_type": "code",
   "execution_count": 3,
   "metadata": {
    "collapsed": false
   },
   "outputs": [],
   "source": [
    "# This tells matplotlib not to try opening a new window for each plot.\n",
    "%matplotlib inline\n",
    "\n",
    "# General libraries.\n",
    "import re\n",
    "import numpy as np\n",
    "import matplotlib.pyplot as plt\n",
    "import nltk\n",
    "import json\n",
    "import pandas as pd\n",
    "\n",
    "# SK-learn libraries for learning.\n",
    "from sklearn.pipeline import Pipeline\n",
    "from sklearn.neighbors import KNeighborsClassifier\n",
    "from sklearn.linear_model import LogisticRegression\n",
    "from sklearn.naive_bayes import BernoulliNB\n",
    "from sklearn.naive_bayes import MultinomialNB\n",
    "from sklearn.grid_search import GridSearchCV\n",
    "\n",
    "# SK-learn libraries for evaluation.\n",
    "from sklearn.metrics import confusion_matrix\n",
    "from sklearn import metrics\n",
    "from sklearn.metrics import classification_report\n",
    "\n",
    "# SK-learn libraries for feature extraction from text.\n",
    "from sklearn.feature_extraction.text import *\n",
    "\n",
    "from subprocess import check_output"
   ]
  },
  {
   "cell_type": "markdown",
   "metadata": {
    "collapsed": true
   },
   "source": [
    "Print the request text and the outcome for 5 requests from the training set"
   ]
  },
  {
   "cell_type": "code",
   "execution_count": 30,
   "metadata": {
    "collapsed": false
   },
   "outputs": [
    {
     "name": "stdout",
     "output_type": "stream",
     "text": [
      "There are  4040  observations and  32  features\n",
      "\n",
      "0 . Outcome:  False \n",
      " Hi I am in need of food for my 4 children we are a military family that has really hit hard times and we have exahusted all means of help just to be able to feed my family and make it through another night is all i ask i know our blessing is coming so whatever u can find in your heart to give is greatly appreciated \n",
      "\n",
      "1 . Outcome:  False \n",
      " I spent the last money I had on gas today. Im broke until next Thursday :( \n",
      "\n",
      "2 . Outcome:  False \n",
      " My girlfriend decided it would be a good idea to get off at Perth bus station when she was coming to visit me and has since had to spend all her money on a taxi to get to me here in Dundee. Any chance some kind soul would get us some pizza since we don't have any cash anymore? \n",
      "\n",
      "3 . Outcome:  False \n",
      " It's cold, I'n hungry, and to be completely honest I'm broke. My mum said we're having leftovers for dinner. A random pizza arriving would be nice.\n",
      "\n",
      "Edit: We had leftovers. \n",
      "\n",
      "5 .  True \n",
      " Feeling under the weather so I called out off work today! I hate requesting because I feel like I'm begging so I thought I'd give back! \n",
      "\n",
      "(I'd offer pizza if today were payday :C) \n",
      "\n",
      "9 .  True \n",
      " Austin, Texas\n",
      "\n",
      "My two roommates and I are hungry as hell. We were all sort of counting on the deposit from our last apartment to help us out, but they claimed there was damages, so we did not receive anything. So, we're sort of struggling. Is anyone able to help us out for dinner tonight? We'd really appreciate it!\n",
      "\n",
      "EDIT: Received a Dominos gift card from jetboyterp! THANK YOU! \n",
      "\n",
      "10 .  True \n",
      " I've been unemployed but working odd jobs. I worked a job yesterday which I thought paid up front - it did not. Now I'm sitting at home dreaming of pizza (literally, I took a nap and dreamt there was pizza in my fridge, but woke up to nothing but leftover pasta). Will pay forward when I get a chance! \n",
      "\n",
      "16 .  True \n",
      " It would be much appreciated, and payed forward later on.  \n",
      "\n"
     ]
    },
    {
     "name": "stderr",
     "output_type": "stream",
     "text": [
      "/Users/jayashreeraman/anaconda/lib/python3.5/site-packages/ipykernel/__main__.py:6: VisibleDeprecationWarning: using a non-integer number instead of an integer will result in an error in the future\n",
      "/Users/jayashreeraman/anaconda/lib/python3.5/site-packages/ipykernel/__main__.py:7: VisibleDeprecationWarning: using a non-integer number instead of an integer will result in an error in the future\n",
      "/Users/jayashreeraman/anaconda/lib/python3.5/site-packages/ipykernel/__main__.py:10: VisibleDeprecationWarning: using a non-integer number instead of an integer will result in an error in the future\n",
      "/Users/jayashreeraman/anaconda/lib/python3.5/site-packages/ipykernel/__main__.py:11: VisibleDeprecationWarning: using a non-integer number instead of an integer will result in an error in the future\n"
     ]
    }
   ],
   "source": [
    "train_json_array = np.array(pd.read_json('train.json', orient='columns'))\n",
    "\n",
    "data_set = train_json_array[:,6]\n",
    "data_labels = train_json_array[:,22]\n",
    "\n",
    "train_data = data_set[:data_set.shape[0]/2]\n",
    "train_outcomes = data_labels[:data_labels.shape[0]/2]\n",
    "train_labels = np.where(train_outcomes==True, 1, 0)\n",
    "\n",
    "dev_data = data_set[(data_set.shape[0]/2)+1:]\n",
    "dev_outcomes = data_labels[(data_labels.shape[0]/2)+1:]\n",
    "dev_labels = np.where(dev_outcomes==True, 1, 0)\n",
    "\n",
    "print('There are ',train_json_array.shape[0], ' observations and ', train_json_array.shape[1], ' features\\n')\n",
    "\n",
    "yescount = 0;\n",
    "nocount = 0;\n",
    "for i in range(0, train_json_array.shape[0]):\n",
    "    if yescount > 3 and nocount > 3:\n",
    "        break \n",
    "    if train_json_array[i][22] == False and nocount < 4:\n",
    "        print(i, '. Outcome: ',train_json_array[i][22],'\\n', train_json_array[i][6],'\\n')\n",
    "        nocount += 1\n",
    "    elif train_json_array[i][22] == True and yescount < 4:\n",
    "        print(i, '. ',train_json_array[i][22],'\\n', train_json_array[i][6],'\\n')\n",
    "        yescount += 1\n",
    "    else:\n",
    "        continue"
   ]
  },
  {
   "cell_type": "code",
   "execution_count": 39,
   "metadata": {
    "collapsed": false
   },
   "outputs": [
    {
     "name": "stdout",
     "output_type": "stream",
     "text": [
      "(2020, 187375) (2020,)\n",
      "(2019,)\n",
      "             precision    recall  f1-score   support\n",
      "\n",
      "  Got pizza       0.77      0.96      0.85      1531\n",
      "   No pizza       0.40      0.08      0.14       488\n",
      "\n",
      "avg / total       0.68      0.75      0.68      2019\n",
      "\n"
     ]
    }
   ],
   "source": [
    "tfv = TfidfVectorizer(analyzer='word', max_df=0.5, ngram_range=(1,3)) \n",
    "\n",
    "X_train = tfv.fit_transform(train_data)\n",
    "X_dev = tfv.transform(dev_data)\n",
    "print(X_train.shape, train_labels.shape)\n",
    "\n",
    "clf = LogisticRegression(penalty='l2',C=100)\n",
    "clf.fit(X_train, train_labels)\n",
    "pred_labels = clf.predict(X_dev)\n",
    "print(pred_labels.shape)\n",
    "target_names = ['Got pizza', 'No pizza']\n",
    "print(classification_report(dev_labels, pred_labels, target_names=target_names))"
   ]
  },
  {
   "cell_type": "code",
   "execution_count": null,
   "metadata": {
    "collapsed": true
   },
   "outputs": [],
   "source": []
  }
 ],
 "metadata": {
  "anaconda-cloud": {},
  "kernelspec": {
   "display_name": "Python [Root]",
   "language": "python",
   "name": "Python [Root]"
  },
  "language_info": {
   "codemirror_mode": {
    "name": "ipython",
    "version": 3
   },
   "file_extension": ".py",
   "mimetype": "text/x-python",
   "name": "python",
   "nbconvert_exporter": "python",
   "pygments_lexer": "ipython3",
   "version": "3.5.2"
  }
 },
 "nbformat": 4,
 "nbformat_minor": 0
}
