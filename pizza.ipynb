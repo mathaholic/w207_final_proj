{
 "cells": [
  {
   "cell_type": "markdown",
   "metadata": {},
   "source": [
    "# Project : Random Acts of Pizza"
   ]
  },
  {
   "cell_type": "markdown",
   "metadata": {},
   "source": [
    "Overview:\n"
   ]
  },
  {
   "cell_type": "code",
   "execution_count": 3,
   "metadata": {
    "collapsed": false
   },
   "outputs": [],
   "source": [
    "# This tells matplotlib not to try opening a new window for each plot.\n",
    "%matplotlib inline\n",
    "\n",
    "# General libraries.\n",
    "import re\n",
    "import numpy as np\n",
    "import matplotlib.pyplot as plt\n",
    "import nltk\n",
    "import json\n",
    "\n",
    "# SK-learn libraries for learning.\n",
    "from sklearn.pipeline import Pipeline\n",
    "from sklearn.neighbors import KNeighborsClassifier\n",
    "from sklearn.linear_model import LogisticRegression\n",
    "from sklearn.naive_bayes import BernoulliNB\n",
    "from sklearn.naive_bayes import MultinomialNB\n",
    "from sklearn.grid_search import GridSearchCV\n",
    "\n",
    "# SK-learn libraries for evaluation.\n",
    "from sklearn.metrics import confusion_matrix\n",
    "from sklearn import metrics\n",
    "from sklearn.metrics import classification_report\n",
    "\n",
    "# SK-learn libraries for feature extraction from text.\n",
    "from sklearn.feature_extraction.text import *"
   ]
  },
  {
   "cell_type": "markdown",
   "metadata": {
    "collapsed": true
   },
   "source": [
    "Print the request text and the outcome for 5 requests from the training set"
   ]
  },
  {
   "cell_type": "code",
   "execution_count": 5,
   "metadata": {
    "collapsed": false
   },
   "outputs": [
    {
     "name": "stdout",
     "output_type": "stream",
     "text": [
      "Dimensions of train data set  (4040,)\n",
      "There are  4040  observations.\n",
      "\n",
      "0 . Outcome:  False \n",
      " Hi I am in need of food for my 4 children we are a military family that has really hit hard times and we have exahusted all means of help just to be able to feed my family and make it through another night is all i ask i know our blessing is coming so whatever u can find in your heart to give is greatly appreciated \n",
      "\n",
      "1 . Outcome:  False \n",
      " I spent the last money I had on gas today. Im broke until next Thursday :( \n",
      "\n",
      "2 . Outcome:  False \n",
      " My girlfriend decided it would be a good idea to get off at Perth bus station when she was coming to visit me and has since had to spend all her money on a taxi to get to me here in Dundee. Any chance some kind soul would get us some pizza since we don't have any cash anymore? \n",
      "\n",
      "3 . Outcome:  False \n",
      " It's cold, I'n hungry, and to be completely honest I'm broke. My mum said we're having leftovers for dinner. A random pizza arriving would be nice.\n",
      "\n",
      "Edit: We had leftovers. \n",
      "\n",
      "5 .  True \n",
      " Feeling under the weather so I called out off work today! I hate requesting because I feel like I'm begging so I thought I'd give back! \n",
      "\n",
      "(I'd offer pizza if today were payday :C) \n",
      "\n",
      "9 .  True \n",
      " Austin, Texas\n",
      "\n",
      "My two roommates and I are hungry as hell. We were all sort of counting on the deposit from our last apartment to help us out, but they claimed there was damages, so we did not receive anything. So, we're sort of struggling. Is anyone able to help us out for dinner tonight? We'd really appreciate it!\n",
      "\n",
      "EDIT: Received a Dominos gift card from jetboyterp! THANK YOU! \n",
      "\n",
      "10 .  True \n",
      " I've been unemployed but working odd jobs. I worked a job yesterday which I thought paid up front - it did not. Now I'm sitting at home dreaming of pizza (literally, I took a nap and dreamt there was pizza in my fridge, but woke up to nothing but leftover pasta). Will pay forward when I get a chance! \n",
      "\n",
      "16 .  True \n",
      " It would be much appreciated, and payed forward later on.  \n",
      "\n"
     ]
    }
   ],
   "source": [
    "with open('train.json') as data_file:    \n",
    "    train_list = json.load(data_file)\n",
    "\n",
    "train_data = np.array(train_list)\n",
    "\n",
    "print('Dimensions of train data set ', train_data.shape)\n",
    "print('There are ',len(train_list), ' observations.\\n')\n",
    "yescount = 0;\n",
    "nocount = 0;\n",
    "for i in range(0, len(train_list)):\n",
    "    if yescount > 3 and nocount > 3:\n",
    "        break \n",
    "    if train_data[i][\"requester_received_pizza\"] == False and nocount < 4:\n",
    "        print(i, '. Outcome: ',train_list[i][\"requester_received_pizza\"],'\\n', train_list[i][\"request_text\"],'\\n')\n",
    "        nocount += 1\n",
    "    elif train_data[i][\"requester_received_pizza\"] == True and yescount < 4:\n",
    "        print(i, '. ',train_list[i][\"requester_received_pizza\"],'\\n', train_list[i][\"request_text\"],'\\n')\n",
    "        yescount += 1\n",
    "    else:\n",
    "        continue"
   ]
  },
  {
   "cell_type": "code",
   "execution_count": null,
   "metadata": {
    "collapsed": true
   },
   "outputs": [],
   "source": []
  }
 ],
 "metadata": {
  "anaconda-cloud": {},
  "kernelspec": {
   "display_name": "Python [Root]",
   "language": "python",
   "name": "Python [Root]"
  },
  "language_info": {
   "codemirror_mode": {
    "name": "ipython",
    "version": 3
   },
   "file_extension": ".py",
   "mimetype": "text/x-python",
   "name": "python",
   "nbconvert_exporter": "python",
   "pygments_lexer": "ipython3",
   "version": "3.5.2"
  }
 },
 "nbformat": 4,
 "nbformat_minor": 0
}
